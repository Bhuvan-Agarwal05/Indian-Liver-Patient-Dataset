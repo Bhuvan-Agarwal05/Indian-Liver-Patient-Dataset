{
 "cells": [
  {
   "cell_type": "markdown",
   "metadata": {},
   "source": [
    "# Preprocessing"
   ]
  },
  {
   "cell_type": "markdown",
   "metadata": {},
   "source": [
    "We will try to train different classification models on the data like Logistic Regression, k-nearest neighbors classifier, Random Forest and a Support Vector Machine."
   ]
  },
  {
   "cell_type": "code",
   "execution_count": 101,
   "metadata": {},
   "outputs": [],
   "source": [
    "#Import required libraries\n",
    "import pandas as pd\n",
    "import matplotlib.pyplot as plt\n",
    "import numpy as np\n",
    "import seaborn as sns\n",
    "from sklearn import preprocessing\n",
    "from sklearn.model_selection import train_test_split\n",
    "from sklearn.preprocessing import MinMaxScaler\n",
    "from sklearn.linear_model import LogisticRegression\n",
    "from sklearn.svm import SVC\n",
    "from sklearn.neighbors import KNeighborsClassifier\n",
    "from sklearn.ensemble import RandomForestClassifier\n",
    "from sklearn.metrics import precision_score\n",
    "from sklearn.metrics import f1_score\n",
    "from sklearn.metrics import recall_score"
   ]
  },
  {
   "cell_type": "code",
   "execution_count": 102,
   "metadata": {},
   "outputs": [
    {
     "data": {
      "text/html": [
       "<div>\n",
       "<style>\n",
       "    .dataframe thead tr:only-child th {\n",
       "        text-align: right;\n",
       "    }\n",
       "\n",
       "    .dataframe thead th {\n",
       "        text-align: left;\n",
       "    }\n",
       "\n",
       "    .dataframe tbody tr th {\n",
       "        vertical-align: top;\n",
       "    }\n",
       "</style>\n",
       "<table border=\"1\" class=\"dataframe\">\n",
       "  <thead>\n",
       "    <tr style=\"text-align: right;\">\n",
       "      <th></th>\n",
       "      <th>Age</th>\n",
       "      <th>Gender</th>\n",
       "      <th>Total Bilirubin</th>\n",
       "      <th>Direct Bilirubin</th>\n",
       "      <th>Alkphos Alkaline Phosphotase</th>\n",
       "      <th>Sgpt Alamine Aminotransferase</th>\n",
       "      <th>Sgot Aspartate Aminotransferase</th>\n",
       "      <th>Total Protiens</th>\n",
       "      <th>Albumin</th>\n",
       "      <th>Albumin-Globulin Ratio</th>\n",
       "      <th>Selector</th>\n",
       "    </tr>\n",
       "  </thead>\n",
       "  <tbody>\n",
       "    <tr>\n",
       "      <th>0</th>\n",
       "      <td>65</td>\n",
       "      <td>Female</td>\n",
       "      <td>0.7</td>\n",
       "      <td>0.1</td>\n",
       "      <td>187</td>\n",
       "      <td>16</td>\n",
       "      <td>18</td>\n",
       "      <td>6.8</td>\n",
       "      <td>3.3</td>\n",
       "      <td>0.90</td>\n",
       "      <td>1</td>\n",
       "    </tr>\n",
       "    <tr>\n",
       "      <th>1</th>\n",
       "      <td>62</td>\n",
       "      <td>Male</td>\n",
       "      <td>10.9</td>\n",
       "      <td>5.5</td>\n",
       "      <td>699</td>\n",
       "      <td>64</td>\n",
       "      <td>100</td>\n",
       "      <td>7.5</td>\n",
       "      <td>3.2</td>\n",
       "      <td>0.74</td>\n",
       "      <td>1</td>\n",
       "    </tr>\n",
       "    <tr>\n",
       "      <th>2</th>\n",
       "      <td>62</td>\n",
       "      <td>Male</td>\n",
       "      <td>7.3</td>\n",
       "      <td>4.1</td>\n",
       "      <td>490</td>\n",
       "      <td>60</td>\n",
       "      <td>68</td>\n",
       "      <td>7.0</td>\n",
       "      <td>3.3</td>\n",
       "      <td>0.89</td>\n",
       "      <td>1</td>\n",
       "    </tr>\n",
       "    <tr>\n",
       "      <th>3</th>\n",
       "      <td>58</td>\n",
       "      <td>Male</td>\n",
       "      <td>1.0</td>\n",
       "      <td>0.4</td>\n",
       "      <td>182</td>\n",
       "      <td>14</td>\n",
       "      <td>20</td>\n",
       "      <td>6.8</td>\n",
       "      <td>3.4</td>\n",
       "      <td>1.00</td>\n",
       "      <td>1</td>\n",
       "    </tr>\n",
       "    <tr>\n",
       "      <th>4</th>\n",
       "      <td>72</td>\n",
       "      <td>Male</td>\n",
       "      <td>3.9</td>\n",
       "      <td>2.0</td>\n",
       "      <td>195</td>\n",
       "      <td>27</td>\n",
       "      <td>59</td>\n",
       "      <td>7.3</td>\n",
       "      <td>2.4</td>\n",
       "      <td>0.40</td>\n",
       "      <td>1</td>\n",
       "    </tr>\n",
       "  </tbody>\n",
       "</table>\n",
       "</div>"
      ],
      "text/plain": [
       "   Age  Gender  Total Bilirubin  Direct Bilirubin  \\\n",
       "0   65  Female              0.7               0.1   \n",
       "1   62    Male             10.9               5.5   \n",
       "2   62    Male              7.3               4.1   \n",
       "3   58    Male              1.0               0.4   \n",
       "4   72    Male              3.9               2.0   \n",
       "\n",
       "   Alkphos Alkaline Phosphotase  Sgpt Alamine Aminotransferase  \\\n",
       "0                           187                             16   \n",
       "1                           699                             64   \n",
       "2                           490                             60   \n",
       "3                           182                             14   \n",
       "4                           195                             27   \n",
       "\n",
       "   Sgot Aspartate Aminotransferase  Total Protiens  Albumin  \\\n",
       "0                               18             6.8      3.3   \n",
       "1                              100             7.5      3.2   \n",
       "2                               68             7.0      3.3   \n",
       "3                               20             6.8      3.4   \n",
       "4                               59             7.3      2.4   \n",
       "\n",
       "   Albumin-Globulin Ratio  Selector  \n",
       "0                    0.90         1  \n",
       "1                    0.74         1  \n",
       "2                    0.89         1  \n",
       "3                    1.00         1  \n",
       "4                    0.40         1  "
      ]
     },
     "execution_count": 102,
     "metadata": {},
     "output_type": "execute_result"
    }
   ],
   "source": [
    "#File does not contain headers so we need to load the headers manually\n",
    "features = [\"Age\", \"Gender\", \"Total Bilirubin\", \"Direct Bilirubin\", \"Alkphos Alkaline Phosphotase\", \"Sgpt Alamine Aminotransferase\", \"Sgot Aspartate Aminotransferase\", \"Total Protiens\", \"Albumin\", \"Albumin-Globulin Ratio\", \"Selector\"]\n",
    "data = pd.read_csv('ilpd.csv', names = features)\n",
    "data.head()"
   ]
  },
  {
   "cell_type": "code",
   "execution_count": 103,
   "metadata": {},
   "outputs": [
    {
     "name": "stdout",
     "output_type": "stream",
     "text": [
      "<class 'pandas.core.frame.DataFrame'>\n",
      "RangeIndex: 583 entries, 0 to 582\n",
      "Data columns (total 11 columns):\n",
      "Age                                583 non-null int64\n",
      "Gender                             583 non-null object\n",
      "Total Bilirubin                    583 non-null float64\n",
      "Direct Bilirubin                   583 non-null float64\n",
      "Alkphos Alkaline Phosphotase       583 non-null int64\n",
      "Sgpt Alamine Aminotransferase      583 non-null int64\n",
      "Sgot Aspartate Aminotransferase    583 non-null int64\n",
      "Total Protiens                     583 non-null float64\n",
      "Albumin                            583 non-null float64\n",
      "Albumin-Globulin Ratio             579 non-null float64\n",
      "Selector                           583 non-null int64\n",
      "dtypes: float64(5), int64(5), object(1)\n",
      "memory usage: 50.2+ KB\n"
     ]
    }
   ],
   "source": [
    "#Overview of data\n",
    "data.info()"
   ]
  },
  {
   "cell_type": "markdown",
   "metadata": {},
   "source": [
    "The Albumin-Globulin Ratio feature has four missing values, as seen above. Here, we are dropping those particular rows which have missing data. We could, in fact, fill those place with values of our own, using options like: \n",
    "1. A constant value that has meaning within the domain, such as 0, distinct from all other values.\n",
    "2. A value from another randomly selected record, or the immediately next or previous record.\n",
    "3. A mean, median or mode value for the column.\n",
    "4. A value estimated by another predictive model.\n",
    "\n",
    "But here, since a very small fraction of values are missing, we choose to drop those rows. "
   ]
  },
  {
   "cell_type": "code",
   "execution_count": 104,
   "metadata": {
    "collapsed": true
   },
   "outputs": [],
   "source": [
    "#Transfrom Gender string into float values\n",
    "le = preprocessing.LabelEncoder()\n",
    "le.fit(['Male','Female'])\n",
    "data.loc[:,'Gender'] = le.transform(data['Gender'])\n",
    "\n",
    "#Remove rows with missing values\n",
    "data = data.dropna(how = 'any', axis = 0)\n",
    "\n",
    "#Also transform Selector variable into usual conventions followed\n",
    "data['Selector'] = data['Selector'].map({2:0, 1:1})"
   ]
  },
  {
   "cell_type": "code",
   "execution_count": 105,
   "metadata": {},
   "outputs": [
    {
     "data": {
      "text/html": [
       "<div>\n",
       "<style>\n",
       "    .dataframe thead tr:only-child th {\n",
       "        text-align: right;\n",
       "    }\n",
       "\n",
       "    .dataframe thead th {\n",
       "        text-align: left;\n",
       "    }\n",
       "\n",
       "    .dataframe tbody tr th {\n",
       "        vertical-align: top;\n",
       "    }\n",
       "</style>\n",
       "<table border=\"1\" class=\"dataframe\">\n",
       "  <thead>\n",
       "    <tr style=\"text-align: right;\">\n",
       "      <th></th>\n",
       "      <th>Age</th>\n",
       "      <th>Gender</th>\n",
       "      <th>Total Bilirubin</th>\n",
       "      <th>Direct Bilirubin</th>\n",
       "      <th>Alkphos Alkaline Phosphotase</th>\n",
       "      <th>Sgpt Alamine Aminotransferase</th>\n",
       "      <th>Sgot Aspartate Aminotransferase</th>\n",
       "      <th>Total Protiens</th>\n",
       "      <th>Albumin</th>\n",
       "      <th>Albumin-Globulin Ratio</th>\n",
       "      <th>Selector</th>\n",
       "    </tr>\n",
       "  </thead>\n",
       "  <tbody>\n",
       "    <tr>\n",
       "      <th>0</th>\n",
       "      <td>65</td>\n",
       "      <td>0</td>\n",
       "      <td>0.7</td>\n",
       "      <td>0.1</td>\n",
       "      <td>187</td>\n",
       "      <td>16</td>\n",
       "      <td>18</td>\n",
       "      <td>6.8</td>\n",
       "      <td>3.3</td>\n",
       "      <td>0.90</td>\n",
       "      <td>1</td>\n",
       "    </tr>\n",
       "    <tr>\n",
       "      <th>1</th>\n",
       "      <td>62</td>\n",
       "      <td>1</td>\n",
       "      <td>10.9</td>\n",
       "      <td>5.5</td>\n",
       "      <td>699</td>\n",
       "      <td>64</td>\n",
       "      <td>100</td>\n",
       "      <td>7.5</td>\n",
       "      <td>3.2</td>\n",
       "      <td>0.74</td>\n",
       "      <td>1</td>\n",
       "    </tr>\n",
       "    <tr>\n",
       "      <th>2</th>\n",
       "      <td>62</td>\n",
       "      <td>1</td>\n",
       "      <td>7.3</td>\n",
       "      <td>4.1</td>\n",
       "      <td>490</td>\n",
       "      <td>60</td>\n",
       "      <td>68</td>\n",
       "      <td>7.0</td>\n",
       "      <td>3.3</td>\n",
       "      <td>0.89</td>\n",
       "      <td>1</td>\n",
       "    </tr>\n",
       "    <tr>\n",
       "      <th>3</th>\n",
       "      <td>58</td>\n",
       "      <td>1</td>\n",
       "      <td>1.0</td>\n",
       "      <td>0.4</td>\n",
       "      <td>182</td>\n",
       "      <td>14</td>\n",
       "      <td>20</td>\n",
       "      <td>6.8</td>\n",
       "      <td>3.4</td>\n",
       "      <td>1.00</td>\n",
       "      <td>1</td>\n",
       "    </tr>\n",
       "    <tr>\n",
       "      <th>4</th>\n",
       "      <td>72</td>\n",
       "      <td>1</td>\n",
       "      <td>3.9</td>\n",
       "      <td>2.0</td>\n",
       "      <td>195</td>\n",
       "      <td>27</td>\n",
       "      <td>59</td>\n",
       "      <td>7.3</td>\n",
       "      <td>2.4</td>\n",
       "      <td>0.40</td>\n",
       "      <td>1</td>\n",
       "    </tr>\n",
       "  </tbody>\n",
       "</table>\n",
       "</div>"
      ],
      "text/plain": [
       "   Age  Gender  Total Bilirubin  Direct Bilirubin  \\\n",
       "0   65       0              0.7               0.1   \n",
       "1   62       1             10.9               5.5   \n",
       "2   62       1              7.3               4.1   \n",
       "3   58       1              1.0               0.4   \n",
       "4   72       1              3.9               2.0   \n",
       "\n",
       "   Alkphos Alkaline Phosphotase  Sgpt Alamine Aminotransferase  \\\n",
       "0                           187                             16   \n",
       "1                           699                             64   \n",
       "2                           490                             60   \n",
       "3                           182                             14   \n",
       "4                           195                             27   \n",
       "\n",
       "   Sgot Aspartate Aminotransferase  Total Protiens  Albumin  \\\n",
       "0                               18             6.8      3.3   \n",
       "1                              100             7.5      3.2   \n",
       "2                               68             7.0      3.3   \n",
       "3                               20             6.8      3.4   \n",
       "4                               59             7.3      2.4   \n",
       "\n",
       "   Albumin-Globulin Ratio  Selector  \n",
       "0                    0.90         1  \n",
       "1                    0.74         1  \n",
       "2                    0.89         1  \n",
       "3                    1.00         1  \n",
       "4                    0.40         1  "
      ]
     },
     "execution_count": 105,
     "metadata": {},
     "output_type": "execute_result"
    }
   ],
   "source": [
    "#Overview of data\n",
    "data.head()"
   ]
  },
  {
   "cell_type": "code",
   "execution_count": 106,
   "metadata": {},
   "outputs": [
    {
     "data": {
      "text/html": [
       "<div>\n",
       "<style>\n",
       "    .dataframe thead tr:only-child th {\n",
       "        text-align: right;\n",
       "    }\n",
       "\n",
       "    .dataframe thead th {\n",
       "        text-align: left;\n",
       "    }\n",
       "\n",
       "    .dataframe tbody tr th {\n",
       "        vertical-align: top;\n",
       "    }\n",
       "</style>\n",
       "<table border=\"1\" class=\"dataframe\">\n",
       "  <thead>\n",
       "    <tr style=\"text-align: right;\">\n",
       "      <th></th>\n",
       "      <th>Age</th>\n",
       "      <th>Gender</th>\n",
       "      <th>Total Bilirubin</th>\n",
       "      <th>Direct Bilirubin</th>\n",
       "      <th>Alkphos Alkaline Phosphotase</th>\n",
       "      <th>Sgpt Alamine Aminotransferase</th>\n",
       "      <th>Sgot Aspartate Aminotransferase</th>\n",
       "      <th>Total Protiens</th>\n",
       "      <th>Albumin</th>\n",
       "      <th>Albumin-Globulin Ratio</th>\n",
       "      <th>Selector</th>\n",
       "    </tr>\n",
       "  </thead>\n",
       "  <tbody>\n",
       "    <tr>\n",
       "      <th>count</th>\n",
       "      <td>579.000000</td>\n",
       "      <td>579.000000</td>\n",
       "      <td>579.000000</td>\n",
       "      <td>579.000000</td>\n",
       "      <td>579.000000</td>\n",
       "      <td>579.000000</td>\n",
       "      <td>579.000000</td>\n",
       "      <td>579.000000</td>\n",
       "      <td>579.000000</td>\n",
       "      <td>579.000000</td>\n",
       "      <td>579.000000</td>\n",
       "    </tr>\n",
       "    <tr>\n",
       "      <th>mean</th>\n",
       "      <td>44.782383</td>\n",
       "      <td>0.758204</td>\n",
       "      <td>3.315371</td>\n",
       "      <td>1.494128</td>\n",
       "      <td>291.366149</td>\n",
       "      <td>81.126079</td>\n",
       "      <td>110.414508</td>\n",
       "      <td>6.481693</td>\n",
       "      <td>3.138515</td>\n",
       "      <td>0.947064</td>\n",
       "      <td>0.715026</td>\n",
       "    </tr>\n",
       "    <tr>\n",
       "      <th>std</th>\n",
       "      <td>16.221786</td>\n",
       "      <td>0.428542</td>\n",
       "      <td>6.227716</td>\n",
       "      <td>2.816499</td>\n",
       "      <td>243.561863</td>\n",
       "      <td>183.182845</td>\n",
       "      <td>289.850034</td>\n",
       "      <td>1.084641</td>\n",
       "      <td>0.794435</td>\n",
       "      <td>0.319592</td>\n",
       "      <td>0.451792</td>\n",
       "    </tr>\n",
       "    <tr>\n",
       "      <th>min</th>\n",
       "      <td>4.000000</td>\n",
       "      <td>0.000000</td>\n",
       "      <td>0.400000</td>\n",
       "      <td>0.100000</td>\n",
       "      <td>63.000000</td>\n",
       "      <td>10.000000</td>\n",
       "      <td>10.000000</td>\n",
       "      <td>2.700000</td>\n",
       "      <td>0.900000</td>\n",
       "      <td>0.300000</td>\n",
       "      <td>0.000000</td>\n",
       "    </tr>\n",
       "    <tr>\n",
       "      <th>25%</th>\n",
       "      <td>33.000000</td>\n",
       "      <td>1.000000</td>\n",
       "      <td>0.800000</td>\n",
       "      <td>0.200000</td>\n",
       "      <td>175.500000</td>\n",
       "      <td>23.000000</td>\n",
       "      <td>25.000000</td>\n",
       "      <td>5.800000</td>\n",
       "      <td>2.600000</td>\n",
       "      <td>0.700000</td>\n",
       "      <td>0.000000</td>\n",
       "    </tr>\n",
       "    <tr>\n",
       "      <th>50%</th>\n",
       "      <td>45.000000</td>\n",
       "      <td>1.000000</td>\n",
       "      <td>1.000000</td>\n",
       "      <td>0.300000</td>\n",
       "      <td>208.000000</td>\n",
       "      <td>35.000000</td>\n",
       "      <td>42.000000</td>\n",
       "      <td>6.600000</td>\n",
       "      <td>3.100000</td>\n",
       "      <td>0.930000</td>\n",
       "      <td>1.000000</td>\n",
       "    </tr>\n",
       "    <tr>\n",
       "      <th>75%</th>\n",
       "      <td>58.000000</td>\n",
       "      <td>1.000000</td>\n",
       "      <td>2.600000</td>\n",
       "      <td>1.300000</td>\n",
       "      <td>298.000000</td>\n",
       "      <td>61.000000</td>\n",
       "      <td>87.000000</td>\n",
       "      <td>7.200000</td>\n",
       "      <td>3.800000</td>\n",
       "      <td>1.100000</td>\n",
       "      <td>1.000000</td>\n",
       "    </tr>\n",
       "    <tr>\n",
       "      <th>max</th>\n",
       "      <td>90.000000</td>\n",
       "      <td>1.000000</td>\n",
       "      <td>75.000000</td>\n",
       "      <td>19.700000</td>\n",
       "      <td>2110.000000</td>\n",
       "      <td>2000.000000</td>\n",
       "      <td>4929.000000</td>\n",
       "      <td>9.600000</td>\n",
       "      <td>5.500000</td>\n",
       "      <td>2.800000</td>\n",
       "      <td>1.000000</td>\n",
       "    </tr>\n",
       "  </tbody>\n",
       "</table>\n",
       "</div>"
      ],
      "text/plain": [
       "              Age      Gender  Total Bilirubin  Direct Bilirubin  \\\n",
       "count  579.000000  579.000000       579.000000        579.000000   \n",
       "mean    44.782383    0.758204         3.315371          1.494128   \n",
       "std     16.221786    0.428542         6.227716          2.816499   \n",
       "min      4.000000    0.000000         0.400000          0.100000   \n",
       "25%     33.000000    1.000000         0.800000          0.200000   \n",
       "50%     45.000000    1.000000         1.000000          0.300000   \n",
       "75%     58.000000    1.000000         2.600000          1.300000   \n",
       "max     90.000000    1.000000        75.000000         19.700000   \n",
       "\n",
       "       Alkphos Alkaline Phosphotase  Sgpt Alamine Aminotransferase  \\\n",
       "count                    579.000000                     579.000000   \n",
       "mean                     291.366149                      81.126079   \n",
       "std                      243.561863                     183.182845   \n",
       "min                       63.000000                      10.000000   \n",
       "25%                      175.500000                      23.000000   \n",
       "50%                      208.000000                      35.000000   \n",
       "75%                      298.000000                      61.000000   \n",
       "max                     2110.000000                    2000.000000   \n",
       "\n",
       "       Sgot Aspartate Aminotransferase  Total Protiens     Albumin  \\\n",
       "count                       579.000000      579.000000  579.000000   \n",
       "mean                        110.414508        6.481693    3.138515   \n",
       "std                         289.850034        1.084641    0.794435   \n",
       "min                          10.000000        2.700000    0.900000   \n",
       "25%                          25.000000        5.800000    2.600000   \n",
       "50%                          42.000000        6.600000    3.100000   \n",
       "75%                          87.000000        7.200000    3.800000   \n",
       "max                        4929.000000        9.600000    5.500000   \n",
       "\n",
       "       Albumin-Globulin Ratio    Selector  \n",
       "count              579.000000  579.000000  \n",
       "mean                 0.947064    0.715026  \n",
       "std                  0.319592    0.451792  \n",
       "min                  0.300000    0.000000  \n",
       "25%                  0.700000    0.000000  \n",
       "50%                  0.930000    1.000000  \n",
       "75%                  1.100000    1.000000  \n",
       "max                  2.800000    1.000000  "
      ]
     },
     "execution_count": 106,
     "metadata": {},
     "output_type": "execute_result"
    }
   ],
   "source": [
    "#features characteristics to determine if feature scaling is necessary\n",
    "data.describe()"
   ]
  },
  {
   "cell_type": "markdown",
   "metadata": {},
   "source": [
    "It clearly reflects from the above output that values across different variables are distributed far too extensively. We could perform feature scaling or normalization so as to improve the classifier accuracy."
   ]
  },
  {
   "cell_type": "code",
   "execution_count": 107,
   "metadata": {
    "collapsed": true
   },
   "outputs": [],
   "source": [
    "X_train, X_test, y_train, y_test = train_test_split(data, data['Selector'], random_state = 0)\n",
    "scaler = MinMaxScaler()\n",
    "X_train_scaled = scaler.fit_transform(X_train)\n",
    "X_test_scaled = scaler.transform(X_test)"
   ]
  },
  {
   "cell_type": "markdown",
   "metadata": {},
   "source": [
    "# Exploratory Data Analysis"
   ]
  },
  {
   "cell_type": "code",
   "execution_count": 108,
   "metadata": {},
   "outputs": [
    {
     "name": "stdout",
     "output_type": "stream",
     "text": [
      "Positive records: 414\n",
      "Negative records: 165\n"
     ]
    }
   ],
   "source": [
    "#Determining the healthy-affected split\n",
    "print(\"Positive records:\", data['Selector'].value_counts().iloc[0])\n",
    "print(\"Negative records:\", data['Selector'].value_counts().iloc[1])"
   ]
  },
  {
   "cell_type": "markdown",
   "metadata": {},
   "source": [
    "This output confirms that we have 414 positive and 165 negative records. This indicates that this is a highly unbalanced dataset."
   ]
  },
  {
   "cell_type": "code",
   "execution_count": 109,
   "metadata": {
    "scrolled": false
   },
   "outputs": [
    {
     "data": {
      "image/png": "[encoded data removed]",
      "text/plain": [
       "<matplotlib.figure.Figure at 0x2573e4c1d30>"
      ]
     },
     "metadata": {},
     "output_type": "display_data"
    }
   ],
   "source": [
    "#Determine statistics based on age\n",
    "plt.figure(figsize=(12, 10))\n",
    "plt.hist(data[data['Selector'] == 1]['Age'], bins = 16, align = 'mid', rwidth = 0.5, color = 'black', alpha = 0.8)\n",
    "plt.xlabel('Age')\n",
    "plt.ylabel('Number of Patients')\n",
    "plt.title('Frequency-Age Distribution')\n",
    "plt.grid(True)\n",
    "plt.savefig('fig1')\n",
    "plt.show()"
   ]
  },
  {
   "cell_type": "markdown",
   "metadata": {},
   "source": [
    "Looking at the age vs. frequency graph, we can observe that middle-aged people are the worst affected. Even elderly people are also suffering from liver ailments, as seen by the bar sizes at ages 60-80."
   ]
  },
  {
   "cell_type": "code",
   "execution_count": 110,
   "metadata": {
    "scrolled": false
   },
   "outputs": [
    {
     "data": {
      "image/png": "[encoded data removed]",
      "text/plain": [
       "<matplotlib.figure.Figure at 0x2573e359780>"
      ]
     },
     "metadata": {},
     "output_type": "display_data"
    }
   ],
   "source": [
    "#correlation-matrix\n",
    "plt.subplots(figsize=(12, 10))\n",
    "plt.title('Pearson Correlation of Features')\n",
    "# Draw the heatmap using seaborn\n",
    "sns.heatmap(data.corr(),linewidths=0.25, vmax=1.0, square=True,annot=True)\n",
    "plt.savefig('fig2')\n",
    "plt.show()"
   ]
  },
  {
   "cell_type": "markdown",
   "metadata": {},
   "source": [
    "The correlation matrix gives us the relationship between two features. As seen above, the following pairs of features seem to be very closely related as indicated by their high correlation coefficients:\n",
    "1. Total Bilirubin and Direct Bilirubin(0.87)\n",
    "2. Sgpt Alamine Aminotransferase and Sgot Aspartate Aminotransferase(0.79)\n",
    "3. Albumin and Total Proteins(0.78)\n",
    "4. Albumin and Albumin-Globulin Ratio(0.69)"
   ]
  },
  {
   "cell_type": "markdown",
   "metadata": {
    "collapsed": true
   },
   "source": [
    "# Using Classification Algorithms"
   ]
  },
  {
   "cell_type": "markdown",
   "metadata": {},
   "source": [
    "Let us now evaluate the performance of various classifiers on this dataset. For the sake of understanding as to how feature scaling affects classifier performance, we will train models using both scaled and unscaled data.\n",
    "Since we are interested in capturing records of people who have been tested positive, we will base our classifier evaluation metric on precision and recall instead of accuracy.\n",
    "We could also use F1 score, since it takes into account both precision and recall."
   ]
  },
  {
   "cell_type": "markdown",
   "metadata": {},
   "source": [
    "### 1. Logistic Regression Classifier"
   ]
  },
  {
   "cell_type": "code",
   "execution_count": 111,
   "metadata": {},
   "outputs": [
    {
     "name": "stdout",
     "output_type": "stream",
     "text": [
      "Logistic Regression Classifier on unscaled test data:\n",
      "Accuracy: 0.993103448276\n",
      "Precision: 0.990476190476\n",
      "Recall: 1.0\n",
      "F-1 score: 0.995215311005\n"
     ]
    }
   ],
   "source": [
    "#Using normal data\n",
    "logreg = LogisticRegression(C = 0.1).fit(X_train, y_train)\n",
    "print(\"Logistic Regression Classifier on unscaled test data:\")\n",
    "print(\"Accuracy:\", logreg.score(X_test, y_test))\n",
    "print(\"Precision:\", precision_score(y_test, logreg.predict(X_test)))\n",
    "print(\"Recall:\", recall_score(y_test, logreg.predict(X_test)))\n",
    "print(\"F-1 score:\", f1_score(y_test, logreg.predict(X_test)))"
   ]
  },
  {
   "cell_type": "code",
   "execution_count": 112,
   "metadata": {
    "scrolled": true
   },
   "outputs": [
    {
     "name": "stdout",
     "output_type": "stream",
     "text": [
      "Logistic Regression Classifier on scaled test data:\n",
      "Accuracy: 1.0\n",
      "Precision: 1.0\n",
      "Recall: 1.0\n",
      "F-1 score: 1.0\n"
     ]
    }
   ],
   "source": [
    "#Using feature-scaled data\n",
    "logreg_scaled = LogisticRegression(C = 0.1).fit(X_train_scaled, y_train)\n",
    "print(\"Logistic Regression Classifier on scaled test data:\")\n",
    "print(\"Accuracy:\", logreg_scaled.score(X_test_scaled, y_test))\n",
    "print(\"Precision:\", precision_score(y_test, logreg_scaled.predict(X_test_scaled)))\n",
    "print(\"Recall:\", recall_score(y_test, logreg_scaled.predict(X_test_scaled)))\n",
    "print(\"F-1 score:\", f1_score(y_test, logreg_scaled.predict(X_test_scaled)))"
   ]
  },
  {
   "cell_type": "markdown",
   "metadata": {},
   "source": [
    "Well! The performance has definitely improved by feature scaling, though not drastically, as there was already very little scope of improvement.\n",
    "Let us look at other classifiers and analyse how they react to scaling."
   ]
  },
  {
   "cell_type": "markdown",
   "metadata": {},
   "source": [
    "### 2. SVM Classifier with RBF kernel"
   ]
  },
  {
   "cell_type": "code",
   "execution_count": 113,
   "metadata": {},
   "outputs": [
    {
     "name": "stdout",
     "output_type": "stream",
     "text": [
      "SVM Classifier on unscaled test data:\n",
      "Accuracy: 0.71724137931\n",
      "Precision: 0.71724137931\n",
      "Recall: 1.0\n",
      "F-1 score: 0.835341365462\n"
     ]
    }
   ],
   "source": [
    "#Using normal data\n",
    "svc_clf = SVC(C = 0.1, kernel = 'rbf').fit(X_train, y_train)\n",
    "print(\"SVM Classifier on unscaled test data:\")\n",
    "print(\"Accuracy:\", svc_clf.score(X_test, y_test))\n",
    "print(\"Precision:\", precision_score(y_test, svc_clf.predict(X_test)))\n",
    "print(\"Recall:\", recall_score(y_test, svc_clf.predict(X_test)))\n",
    "print(\"F-1 score:\", f1_score(y_test, svc_clf.predict(X_test)))\n"
   ]
  },
  {
   "cell_type": "code",
   "execution_count": 114,
   "metadata": {},
   "outputs": [
    {
     "name": "stdout",
     "output_type": "stream",
     "text": [
      "SVM Classifier on scaled test data:\n",
      "Accuracy: 1.0\n",
      "Precision: 1.0\n",
      "Recall: 1.0\n",
      "F-1 score: 1.0\n"
     ]
    }
   ],
   "source": [
    "#Using scaled data\n",
    "svc_clf_scaled = SVC(C = 0.1, kernel = 'rbf').fit(X_train_scaled, y_train)\n",
    "print(\"SVM Classifier on scaled test data:\")\n",
    "print(\"Accuracy:\", svc_clf_scaled.score(X_test_scaled, y_test))\n",
    "print(\"Precision:\", precision_score(y_test, svc_clf_scaled.predict(X_test_scaled)))\n",
    "print(\"Recall:\", recall_score(y_test, svc_clf_scaled.predict(X_test_scaled)))\n",
    "print(\"F-1 score:\", f1_score(y_test, svc_clf_scaled.predict(X_test_scaled)))"
   ]
  },
  {
   "cell_type": "markdown",
   "metadata": {},
   "source": [
    "Again perfect scores! This time, the performance improvement is quite noticeable, as there is a rise of almost 0.18 in the F-1 score."
   ]
  },
  {
   "cell_type": "markdown",
   "metadata": {},
   "source": [
    "### 3. K-NN Classifier"
   ]
  },
  {
   "cell_type": "code",
   "execution_count": 115,
   "metadata": {},
   "outputs": [
    {
     "name": "stdout",
     "output_type": "stream",
     "text": [
      "k-NN Classifier on unscaled test data:\n",
      "Accuracy: 0.613793103448\n",
      "Precision: 0.703389830508\n",
      "Recall: 0.798076923077\n",
      "F-1 score: 0.747747747748\n"
     ]
    }
   ],
   "source": [
    "#Using normal data\n",
    "knn = KNeighborsClassifier(n_neighbors = 5)\n",
    "knn.fit(X_train, y_train)\n",
    "print(\"k-NN Classifier on unscaled test data:\")\n",
    "print(\"Accuracy:\", knn.score(X_test, y_test))\n",
    "print(\"Precision:\", precision_score(y_test, knn.predict(X_test)))\n",
    "print(\"Recall:\", recall_score(y_test, knn.predict(X_test)))\n",
    "print(\"F-1 score:\", f1_score(y_test, knn.predict(X_test)))"
   ]
  },
  {
   "cell_type": "code",
   "execution_count": 116,
   "metadata": {},
   "outputs": [
    {
     "name": "stdout",
     "output_type": "stream",
     "text": [
      "SVM Classifier on scaled test data:\n",
      "Accuracy: 1.0\n",
      "Precision: 1.0\n",
      "Recall: 1.0\n",
      "F-1 score: 1.0\n"
     ]
    }
   ],
   "source": [
    "#Using scaled data\n",
    "knn_scaled = KNeighborsClassifier(n_neighbors = 5)\n",
    "knn_scaled.fit(X_train_scaled, y_train)\n",
    "print(\"SVM Classifier on scaled test data:\")\n",
    "print(\"Accuracy:\", knn_scaled.score(X_test_scaled, y_test))\n",
    "print(\"Precision:\", precision_score(y_test, knn_scaled.predict(X_test_scaled)))\n",
    "print(\"Recall:\", recall_score(y_test, knn_scaled.predict(X_test_scaled)))\n",
    "print(\"F-1 score:\", f1_score(y_test, knn_scaled.predict(X_test_scaled)))"
   ]
  },
  {
   "cell_type": "markdown",
   "metadata": {},
   "source": [
    "### 4. Random Forest Classifier"
   ]
  },
  {
   "cell_type": "code",
   "execution_count": 117,
   "metadata": {},
   "outputs": [
    {
     "name": "stdout",
     "output_type": "stream",
     "text": [
      "SVM Classifier on unscaled test data:\n",
      "Accuracy: 1.0\n",
      "Precision: 1.0\n",
      "Recall: 1.0\n",
      "F-1 score: 1.0\n"
     ]
    }
   ],
   "source": [
    "#using normal data\n",
    "rfc = RandomForestClassifier(n_estimators = 20)\n",
    "rfc.fit(X_train, y_train)\n",
    "print(\"SVM Classifier on unscaled test data:\")\n",
    "print(\"Accuracy:\", rfc.score(X_test, y_test))\n",
    "print(\"Precision:\", precision_score(y_test, rfc.predict(X_test)))\n",
    "print(\"Recall:\", recall_score(y_test, rfc.predict(X_test)))\n",
    "print(\"F-1 score:\", f1_score(y_test, rfc.predict(X_test)))"
   ]
  },
  {
   "cell_type": "code",
   "execution_count": 118,
   "metadata": {},
   "outputs": [
    {
     "name": "stdout",
     "output_type": "stream",
     "text": [
      "Random Forest Classifier on scaled test data:\n",
      "Accuracy: 1.0\n",
      "Precision: 1.0\n",
      "Recall: 1.0\n",
      "F-1 score: 1.0\n"
     ]
    }
   ],
   "source": [
    "#using scaled data\n",
    "rfc_scaled = RandomForestClassifier(n_estimators = 20)\n",
    "rfc_scaled.fit(X_train_scaled, y_train)\n",
    "print(\"Random Forest Classifier on scaled test data:\")\n",
    "print(\"Accuracy:\", rfc_scaled.score(X_test_scaled, y_test))\n",
    "print(\"Precision:\", precision_score(y_test, rfc_scaled.predict(X_test_scaled)))\n",
    "print(\"Recall:\", recall_score(y_test, rfc_scaled.predict(X_test_scaled)))\n",
    "print(\"F-1 score:\", f1_score(y_test, rfc_scaled.predict(X_test_scaled)))"
   ]
  },
  {
   "cell_type": "markdown",
   "metadata": {},
   "source": [
    "Random Forest Classifier works well either way, it seems."
   ]
  },
  {
   "cell_type": "markdown",
   "metadata": {},
   "source": [
    "# Conclusion"
   ]
  },
  {
   "cell_type": "markdown",
   "metadata": {},
   "source": [
    "Feature scaling definitely was helpful in improving model performance. While the Random Forest Classifier performed equally well with and without feature scaling, it is not necessary that this may be the case always. For, performance issues with feature scaling depend on a lot of factors:\n",
    "1. Understanding the data distribution is important. It is highly possible that there may be some features which are almost constant except for a small noise-driven variation. This noise would then be amplified greatly by the normalization.\n",
    "2. The regularization parameter C is also a very important factor in classifier performance. This is crucial either way, whether or not feature scaling is done."
   ]
  },
  {
   "cell_type": "markdown",
   "metadata": {},
   "source": [
    "# Further applications"
   ]
  },
  {
   "cell_type": "markdown",
   "metadata": {},
   "source": [
    "It is not expected to get the same level of performance on bigger and denser data sets. The main reasons behind this are:\n",
    "1. The dataset we worked on was very small, consisting of only 583 observations, of which 4 were dropped.\n",
    "2. The dataset was highly unbalanced, the postive records being three times the number of negative ones.\n",
    "\n",
    "Hence, even though we have obtained perfect scores on this dataset, the performance of the same models on similar but bigger datasets is expected to worsen."
   ]
  }
 ],
 "metadata": {
  "kernelspec": {
   "display_name": "Python 3",
   "language": "python",
   "name": "python3"
  },
  "language_info": {
   "codemirror_mode": {
    "name": "ipython",
    "version": 3
   },
   "file_extension": ".py",
   "mimetype": "text/x-python",
   "name": "python",
   "nbconvert_exporter": "python",
   "pygments_lexer": "ipython3",
   "version": "3.6.3"
  }
 },
 "nbformat": 4,
 "nbformat_minor": 2
}
